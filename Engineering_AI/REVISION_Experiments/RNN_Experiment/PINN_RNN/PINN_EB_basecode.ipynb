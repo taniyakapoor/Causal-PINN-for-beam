{
 "cells": [
  {
   "cell_type": "code",
   "execution_count": 1,
   "id": "62845e91",
   "metadata": {},
   "outputs": [],
   "source": [
    "import torch\n",
    "import torch.nn as nn\n",
    "import torch.optim as optim\n",
    "import torch.utils\n",
    "import torch.utils.data\n",
    "from torch.utils.data import DataLoader\n",
    "import matplotlib.pyplot as plt\n",
    "import numpy as np\n",
    "from math import pi"
   ]
  },
  {
   "cell_type": "code",
   "execution_count": 2,
   "id": "d9d302df",
   "metadata": {},
   "outputs": [],
   "source": [
    "# Exact solution\n",
    "def exact_solution(x, t):\n",
    "    return torch.sin(x)*torch.cos(4*pi*t)\n",
    "\n",
    "# Initial condition\n",
    "def initial_condition(x):\n",
    "    return torch.sin(x)\n",
    "\n",
    "def initial_condition_time(x):\n",
    "    return 0*np.pi**2*torch.sin(np.pi*x)\n",
    "\n"
   ]
  },
  {
   "cell_type": "code",
   "execution_count": 3,
   "id": "cbd4c671",
   "metadata": {},
   "outputs": [
    {
     "data": {
      "text/plain": [
       "<torch._C.Generator at 0x7f0ba400c790>"
      ]
     },
     "execution_count": 3,
     "metadata": {},
     "output_type": "execute_result"
    }
   ],
   "source": [
    "# assigning number of points\n",
    "initial_pts = 2000\n",
    "left_boundary_pts = 2000\n",
    "right_boundary_pts = 2000\n",
    "residual_pts = 10000\n",
    "\n",
    "# Type of optimizer (ADAM or LBFGS)\n",
    "opt_type = \"LBFGS\"\n",
    "manualSeed = 1\n",
    "\n",
    "#np.random.seed(manualSeed)\n",
    "#random.seed(manualSeed)\n",
    "torch.manual_seed(manualSeed)\n"
   ]
  },
  {
   "cell_type": "code",
   "execution_count": 4,
   "id": "61ba54bb",
   "metadata": {},
   "outputs": [],
   "source": [
    "# initial points\n",
    "x_init = pi*torch.rand((initial_pts,1)) # initial pts\n",
    "t_init =  0*x_init\n",
    "init =  torch.cat([x_init, t_init],1)\n",
    "u_init = initial_condition(init[:,0]).reshape(-1, 1)\n",
    "u_init_t = initial_condition_time(init[:,0]).reshape(-1, 1) #new"
   ]
  },
  {
   "cell_type": "code",
   "execution_count": 5,
   "id": "1334fc49",
   "metadata": {},
   "outputs": [],
   "source": [
    "#boundary points\n",
    "\n",
    "xb_left = torch.zeros((left_boundary_pts, 1)) # left spatial boundary\n",
    "tb_left = torch.rand((left_boundary_pts, 1)) # \n",
    "b_left = torch.cat([xb_left, tb_left ],1)\n",
    "u_b_l = 0*xb_left\n",
    "u_b_l_xx = 0*xb_left #new\n",
    "\n"
   ]
  },
  {
   "cell_type": "code",
   "execution_count": 6,
   "id": "fc482504",
   "metadata": {},
   "outputs": [],
   "source": [
    "xb_right = pi*torch.ones((right_boundary_pts, 1)) # right spatial boundary\n",
    "tb_right = torch.rand((right_boundary_pts, 1)) # right boundary pts\n",
    "b_right = torch.cat([xb_right, tb_right ],1)\n",
    "u_b_r = 0*xb_right\n",
    "u_b_r_xx = 0*xb_right #new\n"
   ]
  },
  {
   "cell_type": "code",
   "execution_count": 7,
   "id": "1d80068f",
   "metadata": {},
   "outputs": [],
   "source": [
    "# collocation/ interior points\n",
    "x_interior = pi*torch.rand((residual_pts, 1))\n",
    "t_interior = torch.rand((residual_pts, 1))\n",
    "interior = torch.cat([x_interior, t_interior],1)\n",
    "\n"
   ]
  },
  {
   "cell_type": "code",
   "execution_count": 8,
   "id": "d2a71073",
   "metadata": {},
   "outputs": [],
   "source": [
    "# Training set\n",
    "training_set = DataLoader(torch.utils.data.TensorDataset(init, u_init, u_init_t, b_left, b_right), batch_size=2000, shuffle=False)\n"
   ]
  },
  {
   "cell_type": "code",
   "execution_count": 9,
   "id": "415db5b2",
   "metadata": {},
   "outputs": [],
   "source": [
    "# neural network Class\n",
    "\n",
    "class NeuralNet(nn.Module):\n",
    "\n",
    "    def __init__(self, input_dimension, output_dimension, n_hidden_layers, neurons):\n",
    "        super(NeuralNet, self).__init__()\n",
    "        # Number of input dimensions n\n",
    "        self.input_dimension = input_dimension\n",
    "        # Number of output dimensions m\n",
    "        self.output_dimension = output_dimension\n",
    "        # Number of neurons per layer \n",
    "        self.neurons = neurons\n",
    "        # Number of hidden layers \n",
    "        self.n_hidden_layers = n_hidden_layers\n",
    "        # Activation function \n",
    "        self.activation = nn.Tanh()\n",
    "        \n",
    "        self.input_layer = nn.Linear(self.input_dimension, self.neurons)\n",
    "        self.hidden_layers = nn.ModuleList([nn.Linear(self.neurons, self.neurons) for _ in range(n_hidden_layers)])\n",
    "        self.output_layer = nn.Linear(self.neurons, self.output_dimension)\n",
    "\n",
    "    def forward(self, x):\n",
    "        # The forward function performs the set of affine and non-linear transformations defining the network \n",
    "        # (see equation above)\n",
    "        x = self.activation(self.input_layer(x))\n",
    "        for k, l in enumerate(self.hidden_layers):\n",
    "            x = self.activation(l(x))\n",
    "        return self.output_layer(x)\n",
    "# Model definition\n",
    "my_network = NeuralNet(input_dimension = init.shape[1], output_dimension = u_init.shape[1], n_hidden_layers=4, neurons=20)\n"
   ]
  },
  {
   "cell_type": "code",
   "execution_count": 10,
   "id": "da5ea1e9",
   "metadata": {},
   "outputs": [],
   "source": [
    "def init_xavier(model, retrain_seed):\n",
    "    torch.manual_seed(retrain_seed)\n",
    "    def init_weights(m):\n",
    "        if type(m) == nn.Linear and m.weight.requires_grad and m.bias.requires_grad:\n",
    "            g = nn.init.calculate_gain('tanh')\n",
    "            torch.nn.init.xavier_uniform_(m.weight, gain=g)\n",
    "            #torch.nn.init.xavier_normal_(m.weight, gain=g)\n",
    "            m.bias.data.fill_(0)\n",
    "    model.apply(init_weights)\n"
   ]
  },
  {
   "cell_type": "code",
   "execution_count": 11,
   "id": "6bf0ace9",
   "metadata": {},
   "outputs": [],
   "source": [
    "# Random Seed for weight initialization\n",
    "retrain = 128\n",
    "# Xavier weight initialization\n",
    "init_xavier(my_network, retrain)\n",
    "\n",
    "if opt_type == \"ADAM\":\n",
    "    optimizer_ = optim.Adam(my_network.parameters(), lr=0.001)\n",
    "elif opt_type == \"LBFGS\":\n",
    "    optimizer_ = optim.LBFGS(my_network.parameters(), lr=0.1, max_iter=1, max_eval=50000, tolerance_change=1.0 * np.finfo(float).eps)\n",
    "else:\n",
    "    raise ValueError(\"Optimizer not recognized\")\n",
    " "
   ]
  },
  {
   "cell_type": "code",
   "execution_count": 12,
   "id": "d8ce5a43",
   "metadata": {},
   "outputs": [],
   "source": [
    "def fit(model, training_set, interior, num_epochs, optimizer, p, verbose=True):\n",
    "    history = list()\n",
    "    \n",
    "    # Loop over epochs\n",
    "    for epoch in range(num_epochs):\n",
    "        if verbose: print(\"################################ \", epoch, \" ################################\")\n",
    "\n",
    "        running_loss = list([0])\n",
    "        \n",
    "        # Loop over batches\n",
    "        for j, (initial, u_initial, u_initial_t, bd_left, bd_right) in enumerate(training_set):\n",
    "            \n",
    "            def closure():\n",
    "                # zero the parameter gradients\n",
    "                optimizer.zero_grad()\n",
    "                \n",
    "                initial.requires_grad = True\n",
    "                 # for initial\n",
    "                u_initial_pred_ = model(initial)\n",
    "                inputs1 = torch.ones(initial_pts, 1 )\n",
    "                grad_u_initial = torch.autograd.grad(u_initial_pred_, initial, grad_outputs=inputs1, create_graph=True)[0]\n",
    "                u_initial_pred_t_ =  grad_u_initial[:, 1]\n",
    "                \n",
    "                \n",
    "                # boundary\n",
    "                bd_left.requires_grad = True\n",
    "                bd_right.requires_grad = True\n",
    "                u_bd_left_pred_ = model(bd_left)\n",
    "                u_bd_right_pred_ = model(bd_right)\n",
    "                inputs2 = torch.ones(left_boundary_pts, 1)\n",
    "                inputs3 = torch.ones(right_boundary_pts, 1)\n",
    "                grad_u_b_l = torch.autograd.grad(u_bd_left_pred_, bd_left, grad_outputs=inputs2, create_graph=True)[0]\n",
    "                grad_u_b_r = torch.autograd.grad(u_bd_right_pred_, bd_right, grad_outputs=inputs3, create_graph=True)[0]\n",
    "                u_b_l_x = grad_u_b_l[:, 0]\n",
    "                u_b_r_x = grad_u_b_r[:, 0]\n",
    "                u_b_l_xx = torch.autograd.grad(u_b_l_x, bd_left, grad_outputs=torch.ones(bd_left.shape[0]), create_graph=True)[0]\n",
    "                u_bd_left_pred_xx_ = u_b_l_xx[:, 0]\n",
    "                \n",
    "                u_b_r_xx = torch.autograd.grad(u_b_r_x, bd_right, grad_outputs=torch.ones(bd_right.shape[0]), create_graph=True)[0]\n",
    "                u_bd_right_pred_xx_ = u_b_r_xx[:, 0]\n",
    "                \n",
    "                \n",
    "                \n",
    "                \n",
    "                \n",
    "                \n",
    "               \n",
    "                # residual calculation\n",
    "                interior.requires_grad = True\n",
    "                u_hat = model(interior)\n",
    "                inputs = torch.ones(residual_pts, 1 )\n",
    "              \n",
    "                grad_u_hat = torch.autograd.grad(u_hat, interior, grad_outputs=inputs, create_graph=True)[0]\n",
    "                \n",
    "                u_x = grad_u_hat[:, 0]\n",
    "                u_t =  grad_u_hat[:, 1]\n",
    "                \n",
    "                grad_grad_u_t = torch.autograd.grad(u_t, interior, grad_outputs=torch.ones(interior.shape[0]), create_graph=True)[0]\n",
    "                u_tt = grad_grad_u_t[:, 1]\n",
    "                \n",
    "                grad_grad_u_x = torch.autograd.grad(u_x, interior, grad_outputs=torch.ones(interior.shape[0]), create_graph=True)[0]\n",
    "                u_xx = grad_grad_u_x[:, 0]\n",
    "                \n",
    "                grad_grad_u_xx = torch.autograd.grad(u_xx, interior, grad_outputs=torch.ones(interior.shape[0]), create_graph=True)[0]\n",
    "                u_xxx = grad_grad_u_xx[:, 0]\n",
    "                \n",
    "                grad_grad_u_xxx = torch.autograd.grad(u_xxx, interior, grad_outputs=torch.ones(interior.shape[0]), create_graph=True)[0]\n",
    "                u_xxxx = grad_grad_u_xxx[:, 0]\n",
    "                \n",
    "            \n",
    "                \n",
    "                # Item 1. below\n",
    "                loss_ini = torch.mean((u_initial_pred_.reshape(-1, ) - u_initial.reshape(-1, ))**p) + torch.mean((u_initial_pred_t_.reshape(-1, ) - u_initial_t.reshape(-1, ))**p)\n",
    "                \n",
    "                loss_p = torch.mean((u_tt.reshape(-1, ) + u_xxxx.reshape(-1, )-(1 -16*pi**2)*torch.sin(interior[:, 0])*torch.cos(4*pi*interior[:, 1]))**p)\n",
    "                \n",
    "                loss_bd = torch.mean((u_bd_left_pred_.reshape(-1,))**p) + torch.mean((u_bd_right_pred_.reshape(-1,))**p)+torch.mean((u_bd_left_pred_xx_.reshape(-1,))**p) + torch.mean((u_bd_right_pred_xx_.reshape(-1,))**p)\n",
    "                \n",
    "                loss = loss_ini + 0.1*loss_p + loss_bd\n",
    "               \n",
    "                # Item 2. below\n",
    "                loss.backward()\n",
    "                # Compute average training loss over batches for the current epoch\n",
    "                running_loss[0] += loss.item()\n",
    "                return loss\n",
    "            \n",
    "            # Item 3. below\n",
    "            optimizer.step(closure=closure)\n",
    "            \n",
    "        print('Loss: ', (running_loss[0] / len(training_set)))\n",
    "        history.append(running_loss[0])\n",
    "\n",
    "    return history\n",
    "n_epochs = 15000\n",
    "#history = fit(my_network, training_set, interior, n_epochs, optimizer_, p=2, verbose=True )\n"
   ]
  },
  {
   "cell_type": "code",
   "execution_count": 13,
   "id": "8cfaebdc",
   "metadata": {},
   "outputs": [
    {
     "data": {
      "text/plain": [
       "NeuralNet(\n",
       "  (activation): Tanh()\n",
       "  (input_layer): Linear(in_features=2, out_features=20, bias=True)\n",
       "  (hidden_layers): ModuleList(\n",
       "    (0): Linear(in_features=20, out_features=20, bias=True)\n",
       "    (1): Linear(in_features=20, out_features=20, bias=True)\n",
       "    (2): Linear(in_features=20, out_features=20, bias=True)\n",
       "    (3): Linear(in_features=20, out_features=20, bias=True)\n",
       "  )\n",
       "  (output_layer): Linear(in_features=20, out_features=1, bias=True)\n",
       ")"
      ]
     },
     "execution_count": 13,
     "metadata": {},
     "output_type": "execute_result"
    }
   ],
   "source": [
    "# saving and loading Model\n",
    "FILE = \"first_.pth\"\n",
    "#torch.save(my_network, FILE)\n",
    "\n",
    "# uncomment below when you need to test for different points\n",
    "my_network = torch.load(FILE)\n",
    "my_network.eval()\n"
   ]
  },
  {
   "cell_type": "code",
   "execution_count": 14,
   "id": "7f29e6b2",
   "metadata": {},
   "outputs": [
    {
     "name": "stdout",
     "output_type": "stream",
     "text": [
      "Relative Error Test:  0.0005351814706955338 %\n"
     ]
    },
    {
     "data": {
      "image/png": "[encoded data removed]",
      "text/plain": [
       "<Figure size 432x288 with 1 Axes>"
      ]
     },
     "metadata": {
      "needs_background": "light"
     },
     "output_type": "display_data"
    }
   ],
   "source": [
    "# Compute the relative L2 error norm (generalization error)\n",
    "\n",
    "x_test = torch.linspace(0, pi, 100000).reshape(-1,1)\n",
    "t_test = torch.ones(100000).reshape(-1, 1)\n",
    "test = torch.cat([x_test, t_test],1)\n",
    "\n",
    "\n",
    "u_test_pred = my_network(test).reshape(-1,1)\n",
    "u_test = exact_solution(x_test,t_test).reshape(-1,1)\n",
    "\n",
    "relative_error_test = torch.mean((u_test_pred - u_test)**2)/torch.mean(u_test**2)\n",
    "print(\"Relative Error Test: \", relative_error_test.detach().numpy()*100, \"%\")\n",
    "\n",
    "# final time ploting:\n",
    "# for time t = 1\n",
    "plt.plot(x_test.detach().numpy(),u_test_pred.detach().numpy(), label='Pred, t=1')\n",
    "plt.scatter(x_test.detach().numpy(), u_test.detach().numpy(), s = 65,label='Exact, t=1')\n",
    "plt.grid(linestyle='dotted')\n",
    "plt.legend(loc='upper left', fontsize = 12)\n",
    "plt.xlabel('x', fontsize = 20)\n",
    "plt.ylabel('u', fontsize = 20)\n",
    "plt.xticks(fontsize=20)\n",
    "plt.yticks(fontsize=20)\n",
    "plt.grid(linestyle='dotted')\n",
    "plt.savefig('first_.png', dpi = 300, bbox_inches = \"tight\")\n",
    "plt.savefig('first_.pdf')\n",
    "# show the plot\n",
    "plt.show()"
   ]
  },
  {
   "cell_type": "code",
   "execution_count": 15,
   "id": "1d2e95f8",
   "metadata": {},
   "outputs": [],
   "source": [
    "# Data taking out for RNN "
   ]
  },
  {
   "cell_type": "code",
   "execution_count": 16,
   "id": "60f3a938",
   "metadata": {},
   "outputs": [],
   "source": [
    "import torch\n",
    "\n",
    "u_sol = torch.zeros(100, 256)\n",
    "x_test = torch.linspace(0, pi, 256).reshape(-1, 1)\n",
    "t_test = torch.zeros(256).reshape(-1, 1)\n",
    "dt = 0.01\n",
    "\n",
    "# # Assuming my_network is your defined neural network model\n",
    "# my_network = YourNetworkModel()\n",
    "\n",
    "for i in range(100):\n",
    "      # Increment t_test by dt\n",
    "    test = torch.cat([x_test, t_test], dim=1)\n",
    "  \n",
    "  \n",
    "    output = my_network(test)\n",
    "    t_test += dt\n",
    "    u_sol[i, :] = output.reshape(256)  # Reshape output to match u_sol[i, :]\n",
    "\n",
    "# Rest of your code...\n",
    "u1 = u_sol.T"
   ]
  },
  {
   "cell_type": "code",
   "execution_count": 17,
   "id": "b3c76216",
   "metadata": {},
   "outputs": [
    {
     "data": {
      "image/png": "[encoded data removed]",
      "text/plain": [
       "<Figure size 1080x360 with 2 Axes>"
      ]
     },
     "metadata": {
      "needs_background": "light"
     },
     "output_type": "display_data"
    }
   ],
   "source": [
    "x = np.linspace(0, pi, 256)\n",
    "t = np.linspace(0, 1, 100)\n",
    "\n",
    "X, T = np.meshgrid(x, t)\n",
    "# # Define custom color levels\n",
    "#c_levels = np.linspace(np.min(u), np.max(u), 100)\n",
    "u1 = u1.detach().numpy()\n",
    "# Plot the contour\n",
    "plt.figure(figsize=(15, 5))\n",
    "plt.contourf(T, X, u1.T, cmap='coolwarm')\n",
    "plt.xlabel('t')\n",
    "plt.ylabel('x')\n",
    "plt.title('EB')\n",
    "plt.colorbar()  # Add a colorbar for the contour levels\n",
    "plt.show()"
   ]
  },
  {
   "cell_type": "code",
   "execution_count": 18,
   "id": "b15f0db6",
   "metadata": {},
   "outputs": [],
   "source": [
    "import numpy as np\n",
    "import scipy.io\n",
    "\n",
    "# Example data\n",
    "data = {\n",
    "    'x': x,\n",
    "    't': t,\n",
    "    'u1': u1,\n",
    "}\n",
    "\n",
    "# Save data to .mat file\n",
    "file_path = 'EB.mat'\n",
    "scipy.io.savemat(file_path, data)\n"
   ]
  },
  {
   "cell_type": "code",
   "execution_count": null,
   "id": "9524816a",
   "metadata": {},
   "outputs": [],
   "source": []
  }
 ],
 "metadata": {
  "kernelspec": {
   "display_name": "pytorch",
   "language": "python",
   "name": "pytorch"
  },
  "language_info": {
   "codemirror_mode": {
    "name": "ipython",
    "version": 3
   },
   "file_extension": ".py",
   "mimetype": "text/x-python",
   "name": "python",
   "nbconvert_exporter": "python",
   "pygments_lexer": "ipython3",
   "version": "3.8.10"
  }
 },
 "nbformat": 4,
 "nbformat_minor": 5
}
