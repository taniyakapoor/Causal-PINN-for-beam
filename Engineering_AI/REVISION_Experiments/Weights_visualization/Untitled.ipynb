{
 "cells": [
  {
   "cell_type": "code",
   "execution_count": 2,
   "id": "b64a3050",
   "metadata": {},
   "outputs": [
    {
     "name": "stdout",
     "output_type": "stream",
     "text": [
      "[0.06 0.29 0.3  0.41 0.45 0.53 0.62 0.69 0.78 0.79]\n"
     ]
    }
   ],
   "source": [
    "import numpy as np\n",
    "\n",
    "# Set a seed for reproducibility (optional)\n",
    "np.random.seed(40)\n",
    "\n",
    "# Generate five random numbers between 0 and 1\n",
    "random_numbers = np.random.rand(10)\n",
    "\n",
    "# Sort the array in ascending order\n",
    "sorted_numbers = np.sort(random_numbers)\n",
    "\n",
    "# Round off the numbers to two decimal places\n",
    "rounded_numbers = np.round(sorted_numbers, decimals=2)\n",
    "\n",
    "print(rounded_numbers)\n"
   ]
  },
  {
   "cell_type": "code",
   "execution_count": null,
   "id": "98559f37",
   "metadata": {},
   "outputs": [],
   "source": []
  },
  {
   "cell_type": "code",
   "execution_count": null,
   "id": "6603a991",
   "metadata": {},
   "outputs": [],
   "source": []
  }
 ],
 "metadata": {
  "kernelspec": {
   "display_name": "pytorch",
   "language": "python",
   "name": "pytorch"
  },
  "language_info": {
   "codemirror_mode": {
    "name": "ipython",
    "version": 3
   },
   "file_extension": ".py",
   "mimetype": "text/x-python",
   "name": "python",
   "nbconvert_exporter": "python",
   "pygments_lexer": "ipython3",
   "version": "3.8.10"
  }
 },
 "nbformat": 4,
 "nbformat_minor": 5
}
